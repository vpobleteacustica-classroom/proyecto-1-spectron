{
 "cells": [
  {
   "cell_type": "markdown",
   "id": "047d525e",
   "metadata": {},
   "source": [
    "<p align=\"center\">\n",
    "    <img src=\"../data/uach.png\" alt=\"UACh\" width=\"200\"/>\n",
    "    </p>\n",
    "\n",
    "# Proyecto de ACUS 220 Acústica Computacional con Python  \n",
    "\n",
    "## Convolución y Modelado 3D\n",
    "\n",
    "### Primer Hito de Entrega  \n",
    "\n",
    "**Integrantes: Carlos Duarte, Fernando Castillo, Vicente Alves, Antonio Duque\n"
   ]
  },
  {
   "cell_type": "markdown",
   "id": "00ce9095",
   "metadata": {},
   "source": [
    "## Objetivos del Proyecto  \n",
    "\n",
    "**Objetivo General:**  \n",
    "- Este proyecto busca replicar fenómenos acústicos como el de la Pirámide de Chichén Itzá, donde un aplauso se transforma en el canto de un pájaro debido a la geometría y materiales de la estructura. [1] \n",
    "\n",
    "**Objetivos Específicos:**  \n",
    "- OE1: Implementar en Python el procesamiento por convolución.  \n",
    "- OE2: Describir el segundo objetivo específico.  \n",
    "- OE3: Describir el tercer objetivo específico (si aplica).  \n",
    "\n",
    "> *Recordar*: El objetivo general es amplio (qué se quiere lograr en conjunto), mientras que los específicos son pasos concretos y medibles para alcanzarlo.\n"
   ]
  },
  {
   "cell_type": "markdown",
   "id": "c2ba83cb",
   "metadata": {},
   "source": [
    "## Estado del Arte  \n",
    "\n",
    "En esta sección, el grupo debe presentar un resumen de lo que se ha encontrado en la literatura, plataformas o proyectos relacionados con el problema que quieren resolver.  \n",
    "\n",
    "**Ejemplo:**  \n",
    "- Fenómeno observado: Un aplauso frente a la pirámide de Chichén Itzá produce un eco con caŕacter \"tonal\" que ha sido documentado por investigadores y prensa especializado. Estudios indican que la forma del eco esta fuertemente ligada a la interacción onda-escalón(difracción + reflexiones) y depende del contenido espectral del aplauso.\n",
    "\n"
   ]
  },
  {
   "cell_type": "markdown",
   "id": "7cc17aa5",
   "metadata": {},
   "source": [
    "## Materiales y Métodos  \n",
    "\n",
    "### Materiales  \n",
    "- Listar los datos, grabaciones, sensores o librerías de Python que se usarán.  \n",
    "\n",
    "### Metodología  \n",
    "Describir paso a paso cómo se abordará el problema.  \n",
    "\n",
    "**Ejemplo plan de trabajo:**  \n",
    "\n",
    "| Actividad                        | Responsable(s)   | Fecha estimada |\n",
    "|----------------------------------|-----------------|----------------|\n",
    "| Revisión bibliográfica           | Grupo completo  | 10/10/2025     |\n",
    "| Recolección de datos en terreno  | Nombre1         | 20/10/2025     |\n",
    "| Procesamiento de datos en Python | Nombre2         | 30/10/2025     |\n",
    "| Entrenamiento del modelo         | Nombre3         | 15/11/2025     |\n",
    "| Redacción de informe parcial     | Grupo completo  | 25/11/2025     |  \n"
   ]
  },
  {
   "cell_type": "markdown",
   "id": "b1eb4b2e",
   "metadata": {},
   "source": [
    "## Referencias Bibliográficas  \n",
    "\n",
    "Ejemplos en formato APA:  \n",
    "\n",
    "[1] Declercq, N. F., Degrieck, J., Briers, R., & Leroy, O. (2004). A theoretical study of special acoustic effects caused by the staircase of the El Castillo pyramid at the Maya ruins of Chichen-Itza in Mexico. The Journal of the Acoustical Society of America, 116(6), 3328–3335. https://doi.org/10.1121/1.1764833\n",
    "\n",
    "‌\n"
   ]
  },
  {
   "cell_type": "code",
   "execution_count": null,
   "id": "6976b888-1626-4d5a-bda1-70e82a47c291",
   "metadata": {},
   "outputs": [],
   "source": []
  }
 ],
 "metadata": {
  "kernelspec": {
   "display_name": "acustica",
   "language": "python",
   "name": "acustica"
  },
  "language_info": {
   "codemirror_mode": {
    "name": "ipython",
    "version": 3
   },
   "file_extension": ".py",
   "mimetype": "text/x-python",
   "name": "python",
   "nbconvert_exporter": "python",
   "pygments_lexer": "ipython3",
   "version": "3.10.18"
  }
 },
 "nbformat": 4,
 "nbformat_minor": 5
}
